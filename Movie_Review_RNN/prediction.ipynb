{
 "cells": [
  {
   "cell_type": "code",
   "execution_count": 7,
   "metadata": {},
   "outputs": [],
   "source": [
    "import numpy as np \n",
    "import tensorflow as tf \n",
    "\n",
    "from tensorflow.keras.datasets import imdb\n",
    "from tensorflow.keras.models import load_model\n",
    "from tensorflow.keras.preprocessing import sequence"
   ]
  },
  {
   "cell_type": "code",
   "execution_count": 8,
   "metadata": {},
   "outputs": [],
   "source": [
    "word_index = imdb.get_word_index()\n",
    "reverse_word_index = {value:key for key,value in word_index.items() }"
   ]
  },
  {
   "cell_type": "code",
   "execution_count": 9,
   "metadata": {},
   "outputs": [],
   "source": [
    "# Function to Decode reviews\n",
    "def decode_review(encoded_review):\n",
    "    return ' '.join([reverse_word_index.get(i-3,'***') for i in encoded_review])\n",
    "\n",
    "# Function to preprocess user data \n",
    "def preprocess(text):\n",
    "    words = text.lower().split()\n",
    "    encoded_review = [word_index.get(word,2)+3 for word in words]\n",
    "    padded_review = sequence.pad_sequences([encoded_review],maxlen=1000)\n",
    "    return padded_review"
   ]
  },
  {
   "cell_type": "code",
   "execution_count": 10,
   "metadata": {},
   "outputs": [],
   "source": [
    "model = load_model('./pickle_files/simple_rnn_imdb.h5')\n"
   ]
  },
  {
   "cell_type": "code",
   "execution_count": 11,
   "metadata": {},
   "outputs": [],
   "source": [
    "def predict_sentiment(review):\n",
    "\n",
    "    data = preprocess(review)\n",
    "    prediction = model.predict(data)\n",
    "\n",
    "    sentiment = 'Positive' if prediction[0][0] > 0.5 else 'Negative'\n",
    "    return sentiment, prediction[0][0]\n",
    "\n"
   ]
  },
  {
   "cell_type": "code",
   "execution_count": 12,
   "metadata": {},
   "outputs": [
    {
     "name": "stdout",
     "output_type": "stream",
     "text": [
      "1/1 [==============================] - 0s 205ms/step\n",
      "The review was Negative with probability of review being positive is 0.2970618009567261\n",
      "1/1 [==============================] - 0s 45ms/step\n",
      "The review was Negative with probability of review being positive is 0.46508848667144775\n",
      "1/1 [==============================] - 0s 45ms/step\n",
      "The review was Positive with probability of review being positive is 0.6589095592498779\n"
     ]
    }
   ],
   "source": [
    "# sample input \n",
    "sample_review_1 = \"The movie lacked sense, the characters were not properly written, but had good songs.\"\n",
    "sample_review_2 = \"The movie was ok, second half had good fights, would recommend for one time watch\" \n",
    "sample_review_3 = \"Good feel movie. Heart warming story!\"\n",
    "\n",
    "sentiment,score = predict_sentiment(sample_review_1)\n",
    "print(f\"The review was {sentiment} with probability of review being positive is {score}\")\n",
    "sentiment,score = predict_sentiment(sample_review_2)\n",
    "print(f\"The review was {sentiment} with probability of review being positive is {score}\")\n",
    "sentiment,score = predict_sentiment(sample_review_3)\n",
    "print(f\"The review was {sentiment} with probability of review being positive is {score}\")"
   ]
  }
 ],
 "metadata": {
  "kernelspec": {
   "display_name": "venv",
   "language": "python",
   "name": "python3"
  },
  "language_info": {
   "codemirror_mode": {
    "name": "ipython",
    "version": 3
   },
   "file_extension": ".py",
   "mimetype": "text/x-python",
   "name": "python",
   "nbconvert_exporter": "python",
   "pygments_lexer": "ipython3",
   "version": "3.11.11"
  }
 },
 "nbformat": 4,
 "nbformat_minor": 2
}
